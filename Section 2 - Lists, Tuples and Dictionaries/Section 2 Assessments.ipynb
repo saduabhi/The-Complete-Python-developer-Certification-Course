{
 "cells": [
  {
   "cell_type": "code",
   "execution_count": 4,
   "id": "0d195603",
   "metadata": {},
   "outputs": [
    {
     "data": {
      "text/plain": [
       "12000"
      ]
     },
     "execution_count": 4,
     "metadata": {},
     "output_type": "execute_result"
    }
   ],
   "source": [
    "# Assignment 1:\n",
    "\"\"\"\n",
    "Print Bill's salary from the my_list object shown below.\n",
    "\n",
    "my_list = [{'Tom': 20000, 'Bill': 12000}, ['car', 'laptop', 'TV']]\n",
    "\n",
    "\"\"\"\n",
    "my_list = [{'Tom': 20000, 'Bill': 12000}, ['car', 'laptop', 'TV']]\n",
    "my_list[0]['Bill']"
   ]
  },
  {
   "cell_type": "code",
   "execution_count": 8,
   "id": "faea03bb",
   "metadata": {},
   "outputs": [
    {
     "data": {
      "text/plain": [
       "[{'Tom': {'salary': 20000, 'age': 22, 'items': ['jacket', 'car', 'TV']}},\n",
       " {'Mike': {'salary': 24000, 'age': 27, 'items': ['bike', 'laptop', 'boat']}}]"
      ]
     },
     "execution_count": 8,
     "metadata": {},
     "output_type": "execute_result"
    }
   ],
   "source": [
    "# Assignment 2:\n",
    "\"\"\"\n",
    "Using some of the collection data types we learned about\n",
    "in the course so such as a list and dictionary, create a\n",
    "data structure that best represents the following scenario:\n",
    "\n",
    "Tom has a salary of 20000 and is 22 years old. He owns a few items such as\n",
    "a jacket, a car, and TV. Mike is another person who makes 24000 and is 27 years old\n",
    "who owns a bike, a laptop and boat.\n",
    "\"\"\"\n",
    "\n",
    "# your code below:\n",
    "\n",
    "my_list = [{'Tom':{'salary': 20000, 'age': 22, \"items\": ['jacket','car', 'TV']}},\n",
    "          {'Mike': {'salary': 24000, 'age': 27, \"items\": ['bike','laptop', 'boat']}}]\n",
    "my_list"
   ]
  },
  {
   "cell_type": "code",
   "execution_count": 9,
   "id": "38cc6761",
   "metadata": {},
   "outputs": [
    {
     "data": {
      "text/plain": [
       "[{'tom': {'salary': 20000, 'age': 22, 'items': ['jacket', 'car', 'tv']}}]"
      ]
     },
     "execution_count": 9,
     "metadata": {},
     "output_type": "execute_result"
    }
   ],
   "source": [
    "my_list = [{'tom': {'salary': 20000, 'age': 22, 'items': ['jacket', 'car', 'tv']}}]\n",
    "my_list"
   ]
  },
  {
   "cell_type": "code",
   "execution_count": 25,
   "id": "4c70d83d",
   "metadata": {},
   "outputs": [
    {
     "data": {
      "text/plain": [
       "['cup', 'cereal', 'milk', (3, 4, 8)]"
      ]
     },
     "execution_count": 25,
     "metadata": {},
     "output_type": "execute_result"
    }
   ],
   "source": [
    "# Assignment 3:\n",
    "\"\"\"\n",
    "There is a list shown below titled original_list.\n",
    "\n",
    "Using only what you've learned so far in the course,\n",
    "write code to create a new list that contains the tuple sorted.\n",
    "\n",
    "IMPORTANT: you must do this programmatically! Don't just\n",
    "      hard code a new list with the values rearranged.\n",
    "\"\"\"\n",
    "\n",
    "original_list = ['cup', 'cereal', 'milk', (8, 4, 3)]\n",
    "\n",
    "# your code below:\n",
    "#original_list.pop(3)\n",
    "#original_list\n",
    "#new_list = original_list.pop(3)\n",
    "#new_list.\n",
    "\n",
    "#new_list = original_list[3]\n",
    "\n",
    "\n",
    "\n",
    "num1 = original_list[3][0]\n",
    "num2 = original_list[3][1]\n",
    "num3 = original_list[3][2]\n",
    "\n",
    "new_list = [num1, num2, num3]\n",
    "new_list.sort()\n",
    "\n",
    "new_tuple = (new_list[0], new_list[1], new_list[2])\n",
    "original_list.pop(3)\n",
    "original_list.append(new_tuple)\n",
    "original_list"
   ]
  },
  {
   "cell_type": "code",
   "execution_count": 26,
   "id": "b7e0a25e",
   "metadata": {},
   "outputs": [
    {
     "name": "stdout",
     "output_type": "stream",
     "text": [
      "[(1, 2), (3, 4), (['c', 'd', 'a', 'x'], [3, 9, 4, 12], 4), 'television', 42]\n"
     ]
    }
   ],
   "source": [
    "# Assignment 4:\n",
    "\"\"\"\n",
    "In the list shown below, replace the letter m with the letter x\n",
    "and replace the word TV with the word television. Then print my_list.\n",
    "\"\"\"\n",
    "\n",
    "my_list = [(1, 2), (3, 4), (['c', 'd', 'a', 'm'], [3, 9, 4, 12], 4), 'TV', 42]\n",
    "\n",
    "\n",
    "# Your Code Below:\n",
    "\n",
    "\n",
    "\n",
    "my_list[2][0][3] = 'x'\n",
    "my_list[3] = 'television'\n",
    "\n",
    "\n",
    "print(my_list)"
   ]
  },
  {
   "cell_type": "code",
   "execution_count": null,
   "id": "25be7615",
   "metadata": {},
   "outputs": [],
   "source": []
  },
  {
   "cell_type": "code",
   "execution_count": null,
   "id": "9c4037e9",
   "metadata": {},
   "outputs": [],
   "source": []
  }
 ],
 "metadata": {
  "kernelspec": {
   "display_name": "Python 3 (ipykernel)",
   "language": "python",
   "name": "python3"
  },
  "language_info": {
   "codemirror_mode": {
    "name": "ipython",
    "version": 3
   },
   "file_extension": ".py",
   "mimetype": "text/x-python",
   "name": "python",
   "nbconvert_exporter": "python",
   "pygments_lexer": "ipython3",
   "version": "3.9.13"
  }
 },
 "nbformat": 4,
 "nbformat_minor": 5
}
