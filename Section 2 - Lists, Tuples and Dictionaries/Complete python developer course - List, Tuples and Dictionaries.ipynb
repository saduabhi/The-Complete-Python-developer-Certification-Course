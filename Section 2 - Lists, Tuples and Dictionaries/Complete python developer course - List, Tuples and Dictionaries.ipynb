{
 "cells": [
  {
   "cell_type": "markdown",
   "id": "014e4186",
   "metadata": {},
   "source": [
    "**Lists in Python**"
   ]
  },
  {
   "cell_type": "code",
   "execution_count": 30,
   "id": "abf8d62f",
   "metadata": {},
   "outputs": [
    {
     "data": {
      "text/plain": [
       "[1, 2, 3, 4]"
      ]
     },
     "execution_count": 30,
     "metadata": {},
     "output_type": "execute_result"
    }
   ],
   "source": [
    "# list conatains multiple values in the squared brackets []\n",
    "\n",
    "\n",
    "my_list = [1,2,3,4]\n",
    "my_list"
   ]
  },
  {
   "cell_type": "code",
   "execution_count": 31,
   "id": "41103caa",
   "metadata": {},
   "outputs": [
    {
     "data": {
      "text/plain": [
       "list"
      ]
     },
     "execution_count": 31,
     "metadata": {},
     "output_type": "execute_result"
    }
   ],
   "source": [
    "type(my_list)"
   ]
  },
  {
   "cell_type": "code",
   "execution_count": 32,
   "id": "a72ecdfc",
   "metadata": {},
   "outputs": [
    {
     "data": {
      "text/plain": [
       "[1, 2, 3]"
      ]
     },
     "execution_count": 32,
     "metadata": {},
     "output_type": "execute_result"
    }
   ],
   "source": [
    "# pop an item from the list\n",
    "# using POP METHOD\n",
    "# pops out the last value in the list\n",
    "# this is mutable\n",
    "my_list.pop()\n",
    "my_list"
   ]
  },
  {
   "cell_type": "code",
   "execution_count": 33,
   "id": "e27d86bb",
   "metadata": {},
   "outputs": [
    {
     "data": {
      "text/plain": [
       "[2, 3]"
      ]
     },
     "execution_count": 33,
     "metadata": {},
     "output_type": "execute_result"
    }
   ],
   "source": [
    "my_list.pop(0)\n",
    "my_list"
   ]
  },
  {
   "cell_type": "code",
   "execution_count": 35,
   "id": "bbec04e2",
   "metadata": {},
   "outputs": [
    {
     "data": {
      "text/plain": [
       "['a', 'b', 'c', 'd', 'e']"
      ]
     },
     "execution_count": 35,
     "metadata": {},
     "output_type": "execute_result"
    }
   ],
   "source": [
    "#changing the list values and assigning diiferent value\n",
    "# list is mutable\n",
    "\n",
    "\n",
    "A = ['a','b','c','d','e']\n",
    "A\n"
   ]
  },
  {
   "cell_type": "code",
   "execution_count": 36,
   "id": "a7f01226",
   "metadata": {},
   "outputs": [
    {
     "data": {
      "text/plain": [
       "[1, 'b', 'c', 'd', 'e']"
      ]
     },
     "execution_count": 36,
     "metadata": {},
     "output_type": "execute_result"
    }
   ],
   "source": [
    "A[0] = 1\n",
    "A"
   ]
  },
  {
   "cell_type": "markdown",
   "id": "5481f91b",
   "metadata": {},
   "source": [
    "**APPEND METHOD**"
   ]
  },
  {
   "cell_type": "code",
   "execution_count": 38,
   "id": "db527a34",
   "metadata": {},
   "outputs": [
    {
     "data": {
      "text/plain": [
       "['a', 'b', 'c', 'd', 'e', 'SADU']"
      ]
     },
     "execution_count": 38,
     "metadata": {},
     "output_type": "execute_result"
    }
   ],
   "source": [
    "# changing the list using APPEND METHOD\n",
    "\n",
    "\n",
    "A = ['a','b','c','d','e']\n",
    "A.append(\"SADU\")\n",
    "A\n"
   ]
  },
  {
   "cell_type": "markdown",
   "id": "cdfb1aea",
   "metadata": {},
   "source": [
    "**POP METHOD can be used to returns something**"
   ]
  },
  {
   "cell_type": "markdown",
   "id": "685e8abb",
   "metadata": {},
   "source": [
    "**None - specific kind of datatype in python, its a reserved word**"
   ]
  },
  {
   "cell_type": "code",
   "execution_count": 46,
   "id": "b4220636",
   "metadata": {},
   "outputs": [
    {
     "name": "stdout",
     "output_type": "stream",
     "text": [
      "None\n"
     ]
    },
    {
     "data": {
      "text/plain": [
       "[1, 2, 3, 4, 5]"
      ]
     },
     "execution_count": 46,
     "metadata": {},
     "output_type": "execute_result"
    }
   ],
   "source": [
    "my_list = [1,2,3,4,5]\n",
    "append =my_list.append('this is a sentence')\n",
    "print(append)\n",
    "my_list.pop()\n",
    "my_list"
   ]
  },
  {
   "cell_type": "markdown",
   "id": "44c08c67",
   "metadata": {},
   "source": [
    "**SORT METHOD**"
   ]
  },
  {
   "cell_type": "code",
   "execution_count": 48,
   "id": "27f9672a",
   "metadata": {},
   "outputs": [
    {
     "data": {
      "text/plain": [
       "[1, 3, 5, 12, 24]"
      ]
     },
     "execution_count": 48,
     "metadata": {},
     "output_type": "execute_result"
    }
   ],
   "source": [
    "B = [1,12,3,24,5]\n",
    "B.sort()\n",
    "B"
   ]
  },
  {
   "cell_type": "code",
   "execution_count": 50,
   "id": "6460a403",
   "metadata": {},
   "outputs": [
    {
     "data": {
      "text/plain": [
       "['a', 'b', 'c', 'd', 'e']"
      ]
     },
     "execution_count": 50,
     "metadata": {},
     "output_type": "execute_result"
    }
   ],
   "source": [
    "A = ['a','b','d','c','e']\n",
    "A.sort()\n",
    "A"
   ]
  },
  {
   "cell_type": "markdown",
   "id": "2e2fc7cd",
   "metadata": {},
   "source": [
    "**REVERSE METHOD**"
   ]
  },
  {
   "cell_type": "code",
   "execution_count": 49,
   "id": "2761a86c",
   "metadata": {},
   "outputs": [
    {
     "data": {
      "text/plain": [
       "[5, 24, 3, 12, 1]"
      ]
     },
     "execution_count": 49,
     "metadata": {},
     "output_type": "execute_result"
    }
   ],
   "source": [
    "C = [1,12,3,24,5]\n",
    "C.reverse()\n",
    "C"
   ]
  },
  {
   "cell_type": "markdown",
   "id": "05722764",
   "metadata": {},
   "source": [
    "**len func- gives number of elements to count the number of elements in string as well as in list**"
   ]
  },
  {
   "cell_type": "code",
   "execution_count": 53,
   "id": "79774e77",
   "metadata": {},
   "outputs": [
    {
     "data": {
      "text/plain": [
       "5"
      ]
     },
     "execution_count": 53,
     "metadata": {},
     "output_type": "execute_result"
    }
   ],
   "source": [
    "C = [1,12,3,24,5]\n",
    "len(C)"
   ]
  },
  {
   "cell_type": "code",
   "execution_count": 56,
   "id": "e459050a",
   "metadata": {},
   "outputs": [
    {
     "data": {
      "text/plain": [
       "8"
      ]
     },
     "execution_count": 56,
     "metadata": {},
     "output_type": "execute_result"
    }
   ],
   "source": [
    "C =\"abcdefgh\"\n",
    "len(C)"
   ]
  },
  {
   "cell_type": "markdown",
   "id": "b3d95513",
   "metadata": {},
   "source": [
    "**merging two list together**"
   ]
  },
  {
   "cell_type": "code",
   "execution_count": 57,
   "id": "c0ae360c",
   "metadata": {},
   "outputs": [
    {
     "data": {
      "text/plain": [
       "[1, 12, 3, 24, 5, 'a', 'b', 'd', 'c', 'e']"
      ]
     },
     "execution_count": 57,
     "metadata": {},
     "output_type": "execute_result"
    }
   ],
   "source": [
    "C = [1,12,3,24,5]\n",
    "A = ['a','b','d','c','e']\n",
    "C+A"
   ]
  },
  {
   "cell_type": "markdown",
   "id": "5c6c6c7f",
   "metadata": {},
   "source": [
    "**Assignment- List**"
   ]
  },
  {
   "cell_type": "code",
   "execution_count": 71,
   "id": "7e5052ab",
   "metadata": {},
   "outputs": [
    {
     "data": {
      "text/plain": [
       "['d', 'b', 'a', 3, 2, 1]"
      ]
     },
     "execution_count": 71,
     "metadata": {},
     "output_type": "execute_result"
    }
   ],
   "source": [
    "my_list = ['b','d','a','z','x']\n",
    "another_list = [1,2,3,4,5]\n",
    "\n",
    "my_list.sort()\n",
    "my_list.reverse()\n",
    "\n",
    "#another_list.sort()\n",
    "another_list.reverse()\n",
    "\n",
    "\n",
    "my_list[2:] + another_list[2:]"
   ]
  },
  {
   "cell_type": "markdown",
   "id": "28483a30",
   "metadata": {},
   "source": [
    "**Accessing Elements in Nested Lists**"
   ]
  },
  {
   "cell_type": "code",
   "execution_count": 77,
   "id": "54440912",
   "metadata": {},
   "outputs": [
    {
     "data": {
      "text/plain": [
       "'banana'"
      ]
     },
     "execution_count": 77,
     "metadata": {},
     "output_type": "execute_result"
    }
   ],
   "source": [
    "my_list = ['a','b','c',1,2,3,['apple', 'orange', 'banana'], 'd']\n",
    "\n",
    "extract_fruit = my_list[6]\n",
    "extract_fruit[2]"
   ]
  },
  {
   "cell_type": "code",
   "execution_count": 80,
   "id": "ff72ec46",
   "metadata": {},
   "outputs": [
    {
     "data": {
      "text/plain": [
       "'banana'"
      ]
     },
     "execution_count": 80,
     "metadata": {},
     "output_type": "execute_result"
    }
   ],
   "source": [
    "my_list[6][2]"
   ]
  },
  {
   "cell_type": "code",
   "execution_count": 82,
   "id": "58c63056",
   "metadata": {},
   "outputs": [
    {
     "data": {
      "text/plain": [
       "'sadu'"
      ]
     },
     "execution_count": 82,
     "metadata": {},
     "output_type": "execute_result"
    }
   ],
   "source": [
    "my_list = ['a','b','c',1,2,3,['apple', 'orange', ['john', 'sadu'],'banana'], 'd']\n",
    "my_list[6][2][1]"
   ]
  },
  {
   "cell_type": "markdown",
   "id": "db8ae441",
   "metadata": {},
   "source": [
    "**Modifying the list**"
   ]
  },
  {
   "cell_type": "code",
   "execution_count": 86,
   "id": "12c8ab66",
   "metadata": {},
   "outputs": [
    {
     "data": {
      "text/plain": [
       "['a', 'b', 'c', 1, 2, 3, ['apple', 'orange', ['abhi', 'sadu'], 'banana'], 'd']"
      ]
     },
     "execution_count": 86,
     "metadata": {},
     "output_type": "execute_result"
    }
   ],
   "source": [
    "my_list = ['a','b','c',1,2,3,['apple', 'orange', ['john', 'sadu'],'banana'], 'd']\n",
    "\n",
    "my_list[6][2][0] = 'abhi'\n",
    "my_list"
   ]
  },
  {
   "cell_type": "markdown",
   "id": "274b5ae2",
   "metadata": {},
   "source": [
    "**Finding Index Positions in Lists and Counting Duplicates**"
   ]
  },
  {
   "cell_type": "markdown",
   "id": "50eff279",
   "metadata": {},
   "source": [
    "**Index Method**"
   ]
  },
  {
   "cell_type": "code",
   "execution_count": 88,
   "id": "b957290d",
   "metadata": {},
   "outputs": [
    {
     "data": {
      "text/plain": [
       "2"
      ]
     },
     "execution_count": 88,
     "metadata": {},
     "output_type": "execute_result"
    }
   ],
   "source": [
    "my_list = ['a','b','c', 'd']\n",
    "my_list.index('c')\n",
    "#my_list"
   ]
  },
  {
   "cell_type": "markdown",
   "id": "41d58f4f",
   "metadata": {},
   "source": [
    "**Count Method**"
   ]
  },
  {
   "cell_type": "code",
   "execution_count": 92,
   "id": "e2bad059",
   "metadata": {},
   "outputs": [
    {
     "data": {
      "text/plain": [
       "3"
      ]
     },
     "execution_count": 92,
     "metadata": {},
     "output_type": "execute_result"
    }
   ],
   "source": [
    "my_lists = ['a','b','c','d','c','c']\n",
    "my_lists.count('c')"
   ]
  },
  {
   "cell_type": "markdown",
   "id": "a522165b",
   "metadata": {},
   "source": [
    "**Tuples in Python** - use parenthesis ()"
   ]
  },
  {
   "cell_type": "markdown",
   "id": "70a92c4d",
   "metadata": {},
   "source": [
    "**Tuples are Immutable and cannot be modified**"
   ]
  },
  {
   "cell_type": "code",
   "execution_count": 109,
   "id": "a2142fb9",
   "metadata": {},
   "outputs": [
    {
     "data": {
      "text/plain": [
       "(1, 1, 2, 3, 'some data', [1, 2, 3])"
      ]
     },
     "execution_count": 109,
     "metadata": {},
     "output_type": "execute_result"
    }
   ],
   "source": [
    "my_tuple = (1,1,2,3, \"some data\", [1,2,3])\n",
    "my_tuple"
   ]
  },
  {
   "cell_type": "code",
   "execution_count": 114,
   "id": "222ecf5f",
   "metadata": {},
   "outputs": [
    {
     "data": {
      "text/plain": [
       "(2, 3, 'some data', [1, 2, 3])"
      ]
     },
     "execution_count": 114,
     "metadata": {},
     "output_type": "execute_result"
    }
   ],
   "source": [
    "my_tuple[2:6]"
   ]
  },
  {
   "cell_type": "code",
   "execution_count": 113,
   "id": "c1391300",
   "metadata": {},
   "outputs": [
    {
     "data": {
      "text/plain": [
       "tuple"
      ]
     },
     "execution_count": 113,
     "metadata": {},
     "output_type": "execute_result"
    }
   ],
   "source": [
    "type(my_tuple[2:6])"
   ]
  },
  {
   "cell_type": "code",
   "execution_count": 111,
   "id": "53b91209",
   "metadata": {},
   "outputs": [
    {
     "data": {
      "text/plain": [
       "1"
      ]
     },
     "execution_count": 111,
     "metadata": {},
     "output_type": "execute_result"
    }
   ],
   "source": [
    "my_tuple.count(2)"
   ]
  },
  {
   "cell_type": "code",
   "execution_count": 106,
   "id": "d78a0639",
   "metadata": {},
   "outputs": [
    {
     "ename": "TypeError",
     "evalue": "'tuple' object does not support item assignment",
     "output_type": "error",
     "traceback": [
      "\u001b[1;31m---------------------------------------------------------------------------\u001b[0m",
      "\u001b[1;31mTypeError\u001b[0m                                 Traceback (most recent call last)",
      "\u001b[1;32m~\\AppData\\Local\\Temp\\ipykernel_21896\\3724275736.py\u001b[0m in \u001b[0;36m<module>\u001b[1;34m\u001b[0m\n\u001b[1;32m----> 1\u001b[1;33m \u001b[0mmy_tuple\u001b[0m\u001b[1;33m[\u001b[0m\u001b[1;36m3\u001b[0m\u001b[1;33m]\u001b[0m \u001b[1;33m=\u001b[0m \u001b[1;34m\"sadu\"\u001b[0m\u001b[1;33m\u001b[0m\u001b[1;33m\u001b[0m\u001b[0m\n\u001b[0m",
      "\u001b[1;31mTypeError\u001b[0m: 'tuple' object does not support item assignment"
     ]
    }
   ],
   "source": [
    "my_tuple[3] = \"sadu\""
   ]
  },
  {
   "cell_type": "code",
   "execution_count": 107,
   "id": "c1cc9958",
   "metadata": {},
   "outputs": [
    {
     "name": "stdout",
     "output_type": "stream",
     "text": [
      "(1, 1, 2, 3, 'some data', [1, 'sadu', 3])\n"
     ]
    }
   ],
   "source": [
    "my_tuple[5][1] = \"sadu\"\n",
    "print(my_tuple)"
   ]
  },
  {
   "cell_type": "markdown",
   "id": "8a0035a1",
   "metadata": {},
   "source": [
    "**Dictionaries in Python**"
   ]
  },
  {
   "cell_type": "markdown",
   "id": "31b4240e",
   "metadata": {},
   "source": [
    "**Dict are key oriented structure they are not positional oriented structure like tuples**"
   ]
  },
  {
   "cell_type": "code",
   "execution_count": 118,
   "id": "f6bbc035",
   "metadata": {},
   "outputs": [
    {
     "data": {
      "text/plain": [
       "'sadu'"
      ]
     },
     "execution_count": 118,
     "metadata": {},
     "output_type": "execute_result"
    }
   ],
   "source": [
    "dict = {'k1': 'sadu', 'k2': 'abhi'}\n",
    "dict['k1']"
   ]
  },
  {
   "cell_type": "code",
   "execution_count": 120,
   "id": "ec3f0a9c",
   "metadata": {},
   "outputs": [
    {
     "data": {
      "text/plain": [
       "'abhi'"
      ]
     },
     "execution_count": 120,
     "metadata": {},
     "output_type": "execute_result"
    }
   ],
   "source": [
    "dict = {'k1': 'sadu', 5: 'abhi'}\n",
    "dict[5]\n",
    "\n",
    "#its a key  not the index position"
   ]
  },
  {
   "cell_type": "code",
   "execution_count": 127,
   "id": "774edff0",
   "metadata": {},
   "outputs": [
    {
     "data": {
      "text/plain": [
       "{'k1': 'new value', 'k2': 'abhi'}"
      ]
     },
     "execution_count": 127,
     "metadata": {},
     "output_type": "execute_result"
    }
   ],
   "source": [
    "dict = {'k1': 'sadu', 'k2': 'abhi'}\n",
    "dict['k1'] ='new value'\n",
    "dict"
   ]
  },
  {
   "cell_type": "code",
   "execution_count": 128,
   "id": "0a2ce27e",
   "metadata": {},
   "outputs": [
    {
     "data": {
      "text/plain": [
       "{'k1': 'new value'}"
      ]
     },
     "execution_count": 128,
     "metadata": {},
     "output_type": "execute_result"
    }
   ],
   "source": [
    "dict.pop('k2')\n",
    "dict"
   ]
  },
  {
   "cell_type": "code",
   "execution_count": 130,
   "id": "84ff76cb",
   "metadata": {},
   "outputs": [
    {
     "data": {
      "text/plain": [
       "{}"
      ]
     },
     "execution_count": 130,
     "metadata": {},
     "output_type": "execute_result"
    }
   ],
   "source": [
    "dict.clear()\n",
    "dict"
   ]
  },
  {
   "cell_type": "markdown",
   "id": "96e767a1",
   "metadata": {},
   "source": [
    "**Adding new value to the dictionary**"
   ]
  },
  {
   "cell_type": "code",
   "execution_count": 133,
   "id": "d4192178",
   "metadata": {},
   "outputs": [
    {
     "data": {
      "text/plain": [
       "{'k1': 'sadu', 'k2': 'abhi', 'k3': 'kishan'}"
      ]
     },
     "execution_count": 133,
     "metadata": {},
     "output_type": "execute_result"
    }
   ],
   "source": [
    "dict1 = {'k1': 'sadu', 'k2': 'abhi'}\n",
    "dict1['k3']= 'kishan'\n",
    "dict1"
   ]
  },
  {
   "cell_type": "code",
   "execution_count": 136,
   "id": "eb231fd1",
   "metadata": {},
   "outputs": [
    {
     "data": {
      "text/plain": [
       "'apple'"
      ]
     },
     "execution_count": 136,
     "metadata": {},
     "output_type": "execute_result"
    }
   ],
   "source": [
    "dict1 = {'k1': 'sadu', 'k2': 'abhi', 'items': ['banana','apple']}\n",
    "dict1['items'][1]"
   ]
  },
  {
   "cell_type": "code",
   "execution_count": 150,
   "id": "f5d41bb9",
   "metadata": {},
   "outputs": [
    {
     "data": {
      "text/plain": [
       "['apple', 'orange']"
      ]
     },
     "execution_count": 150,
     "metadata": {},
     "output_type": "execute_result"
    }
   ],
   "source": [
    "dict1 = {'k1': 'sadu', 'k2': 'abhi', 'items': ['banana', {'k3':['apple','orange']}]}\n",
    "dict1['items'][1]['k3']"
   ]
  },
  {
   "cell_type": "code",
   "execution_count": 151,
   "id": "51ef1077",
   "metadata": {},
   "outputs": [
    {
     "data": {
      "text/plain": [
       "{'k3': ['apple', 'orange']}"
      ]
     },
     "execution_count": 151,
     "metadata": {},
     "output_type": "execute_result"
    }
   ],
   "source": [
    "dict1['items'][1]"
   ]
  },
  {
   "cell_type": "markdown",
   "id": "8c97e04e",
   "metadata": {},
   "source": [
    "**Comparison Operators/ logic operators - results in boolean value like True or False**"
   ]
  },
  {
   "cell_type": "code",
   "execution_count": 152,
   "id": "15aacc8c",
   "metadata": {},
   "outputs": [
    {
     "data": {
      "text/plain": [
       "False"
      ]
     },
     "execution_count": 152,
     "metadata": {},
     "output_type": "execute_result"
    }
   ],
   "source": [
    "10==9"
   ]
  },
  {
   "cell_type": "code",
   "execution_count": 153,
   "id": "f376aaa2",
   "metadata": {},
   "outputs": [
    {
     "data": {
      "text/plain": [
       "True"
      ]
     },
     "execution_count": 153,
     "metadata": {},
     "output_type": "execute_result"
    }
   ],
   "source": [
    "10==10"
   ]
  },
  {
   "cell_type": "code",
   "execution_count": 154,
   "id": "67a2ceb7",
   "metadata": {},
   "outputs": [
    {
     "data": {
      "text/plain": [
       "True"
      ]
     },
     "execution_count": 154,
     "metadata": {},
     "output_type": "execute_result"
    }
   ],
   "source": [
    "'hello'=='hello'"
   ]
  },
  {
   "cell_type": "code",
   "execution_count": 155,
   "id": "9aaf644a",
   "metadata": {},
   "outputs": [
    {
     "data": {
      "text/plain": [
       "False"
      ]
     },
     "execution_count": 155,
     "metadata": {},
     "output_type": "execute_result"
    }
   ],
   "source": [
    "'hello'=='Hello'"
   ]
  },
  {
   "cell_type": "code",
   "execution_count": 156,
   "id": "2bd8eec6",
   "metadata": {},
   "outputs": [
    {
     "data": {
      "text/plain": [
       "False"
      ]
     },
     "execution_count": 156,
     "metadata": {},
     "output_type": "execute_result"
    }
   ],
   "source": [
    "5 == '5'"
   ]
  },
  {
   "cell_type": "code",
   "execution_count": 158,
   "id": "5b1850b9",
   "metadata": {},
   "outputs": [
    {
     "data": {
      "text/plain": [
       "True"
      ]
     },
     "execution_count": 158,
     "metadata": {},
     "output_type": "execute_result"
    }
   ],
   "source": [
    "5 ==5.0"
   ]
  },
  {
   "cell_type": "code",
   "execution_count": 159,
   "id": "b669e7fd",
   "metadata": {},
   "outputs": [
    {
     "data": {
      "text/plain": [
       "True"
      ]
     },
     "execution_count": 159,
     "metadata": {},
     "output_type": "execute_result"
    }
   ],
   "source": [
    "5< 10"
   ]
  },
  {
   "cell_type": "code",
   "execution_count": 160,
   "id": "db9180d6",
   "metadata": {},
   "outputs": [
    {
     "data": {
      "text/plain": [
       "True"
      ]
     },
     "execution_count": 160,
     "metadata": {},
     "output_type": "execute_result"
    }
   ],
   "source": [
    "5>=5"
   ]
  },
  {
   "cell_type": "code",
   "execution_count": 161,
   "id": "6fbab015",
   "metadata": {},
   "outputs": [
    {
     "data": {
      "text/plain": [
       "True"
      ]
     },
     "execution_count": 161,
     "metadata": {},
     "output_type": "execute_result"
    }
   ],
   "source": [
    "5>=3"
   ]
  },
  {
   "cell_type": "code",
   "execution_count": 162,
   "id": "5760ac9b",
   "metadata": {},
   "outputs": [
    {
     "data": {
      "text/plain": [
       "True"
      ]
     },
     "execution_count": 162,
     "metadata": {},
     "output_type": "execute_result"
    }
   ],
   "source": [
    "5!=6"
   ]
  },
  {
   "cell_type": "code",
   "execution_count": 163,
   "id": "93a12af9",
   "metadata": {},
   "outputs": [
    {
     "data": {
      "text/plain": [
       "False"
      ]
     },
     "execution_count": 163,
     "metadata": {},
     "output_type": "execute_result"
    }
   ],
   "source": [
    "5!= 5"
   ]
  },
  {
   "cell_type": "code",
   "execution_count": 165,
   "id": "2b097eec",
   "metadata": {},
   "outputs": [
    {
     "data": {
      "text/plain": [
       "True"
      ]
     },
     "execution_count": 165,
     "metadata": {},
     "output_type": "execute_result"
    }
   ],
   "source": [
    "'5'!=5"
   ]
  },
  {
   "cell_type": "code",
   "execution_count": 166,
   "id": "df8b49d4",
   "metadata": {},
   "outputs": [
    {
     "data": {
      "text/plain": [
       "False"
      ]
     },
     "execution_count": 166,
     "metadata": {},
     "output_type": "execute_result"
    }
   ],
   "source": [
    "'hello' != 'hello'"
   ]
  },
  {
   "cell_type": "code",
   "execution_count": 167,
   "id": "2a2d979d",
   "metadata": {},
   "outputs": [
    {
     "data": {
      "text/plain": [
       "True"
      ]
     },
     "execution_count": 167,
     "metadata": {},
     "output_type": "execute_result"
    }
   ],
   "source": [
    "'hello' != 'Hello'"
   ]
  },
  {
   "cell_type": "markdown",
   "id": "a6468517",
   "metadata": {},
   "source": [
    "**Or operator**"
   ]
  },
  {
   "cell_type": "code",
   "execution_count": 170,
   "id": "8642c0ad",
   "metadata": {},
   "outputs": [
    {
     "data": {
      "text/plain": [
       "True"
      ]
     },
     "execution_count": 170,
     "metadata": {},
     "output_type": "execute_result"
    }
   ],
   "source": [
    "('hello' == 'Hello' or 5==5)"
   ]
  },
  {
   "cell_type": "markdown",
   "id": "c16b4d04",
   "metadata": {},
   "source": [
    "**And operator**"
   ]
  },
  {
   "cell_type": "code",
   "execution_count": 173,
   "id": "e65b1d24",
   "metadata": {},
   "outputs": [
    {
     "data": {
      "text/plain": [
       "True"
      ]
     },
     "execution_count": 173,
     "metadata": {},
     "output_type": "execute_result"
    }
   ],
   "source": [
    "('hello' == 'hello' or 5==5 and 5==6)"
   ]
  },
  {
   "cell_type": "code",
   "execution_count": 174,
   "id": "e653f135",
   "metadata": {},
   "outputs": [
    {
     "data": {
      "text/plain": [
       "False"
      ]
     },
     "execution_count": 174,
     "metadata": {},
     "output_type": "execute_result"
    }
   ],
   "source": [
    "5==5 and 5==6"
   ]
  },
  {
   "cell_type": "markdown",
   "id": "0d789cf7",
   "metadata": {},
   "source": [
    "**Not operator- used to get the opposite value of the boolean**"
   ]
  },
  {
   "cell_type": "code",
   "execution_count": 175,
   "id": "bad0dfc7",
   "metadata": {},
   "outputs": [
    {
     "name": "stdout",
     "output_type": "stream",
     "text": [
      "False\n"
     ]
    }
   ],
   "source": [
    "print (not True)"
   ]
  },
  {
   "cell_type": "code",
   "execution_count": 176,
   "id": "c19db55c",
   "metadata": {},
   "outputs": [
    {
     "name": "stdout",
     "output_type": "stream",
     "text": [
      "True\n"
     ]
    }
   ],
   "source": [
    "print(not False)"
   ]
  },
  {
   "cell_type": "code",
   "execution_count": 177,
   "id": "29ca19ae",
   "metadata": {},
   "outputs": [
    {
     "name": "stdout",
     "output_type": "stream",
     "text": [
      "False\n"
     ]
    }
   ],
   "source": [
    "print(not (5==5))"
   ]
  },
  {
   "cell_type": "code",
   "execution_count": 178,
   "id": "cea79518",
   "metadata": {},
   "outputs": [
    {
     "name": "stdout",
     "output_type": "stream",
     "text": [
      "True\n"
     ]
    }
   ],
   "source": [
    "print(not (5!=5))"
   ]
  },
  {
   "cell_type": "code",
   "execution_count": null,
   "id": "c1e9f527",
   "metadata": {},
   "outputs": [],
   "source": []
  },
  {
   "cell_type": "code",
   "execution_count": null,
   "id": "673ee5c3",
   "metadata": {},
   "outputs": [],
   "source": []
  }
 ],
 "metadata": {
  "kernelspec": {
   "display_name": "Python 3 (ipykernel)",
   "language": "python",
   "name": "python3"
  },
  "language_info": {
   "codemirror_mode": {
    "name": "ipython",
    "version": 3
   },
   "file_extension": ".py",
   "mimetype": "text/x-python",
   "name": "python",
   "nbconvert_exporter": "python",
   "pygments_lexer": "ipython3",
   "version": "3.9.13"
  }
 },
 "nbformat": 4,
 "nbformat_minor": 5
}
