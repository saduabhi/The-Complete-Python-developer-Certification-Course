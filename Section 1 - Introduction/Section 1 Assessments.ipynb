{
 "cells": [
  {
   "cell_type": "code",
   "execution_count": 8,
   "id": "154144e2",
   "metadata": {},
   "outputs": [
    {
     "data": {
      "text/plain": [
       "3"
      ]
     },
     "execution_count": 8,
     "metadata": {},
     "output_type": "execute_result"
    }
   ],
   "source": [
    "# Assignment 1:\n",
    "\"\"\"\n",
    "    We would like to get the remainder of 15 divided by 4.\n",
    "    The calculation below does not seem to give us this result.\n",
    "    How would you change the code to meet the requirement?\n",
    "\n",
    "\"\"\"\n",
    "\n",
    "#Solution\n",
    "\n",
    "remainder = 15 % 4\n",
    "remainder"
   ]
  },
  {
   "cell_type": "code",
   "execution_count": 9,
   "id": "571e12de",
   "metadata": {},
   "outputs": [
    {
     "name": "stdout",
     "output_type": "stream",
     "text": [
      "We have 10 small boxes, 12 large boxes, 12 medium boxes\n"
     ]
    }
   ],
   "source": [
    "# Assignment 2:\n",
    "\"\"\"\n",
    "Use of the below format() method is incorrect for what we are trying to do.\n",
    "We actually have 10 small, 12 large, and 12 medium boxes.\n",
    "Write code to correct this:\n",
    "\n",
    "\n",
    "print(\"We have {2} small boxes, {2} large boxes, {2} medium boxes\".format(10,12,12))\n",
    "\n",
    "\"\"\"\n",
    "#Solution\n",
    "\n",
    "print(\"We have {0} small boxes, {1} large boxes, {2} medium boxes\".format(10,12,12))"
   ]
  },
  {
   "cell_type": "code",
   "execution_count": 10,
   "id": "a3079000",
   "metadata": {},
   "outputs": [
    {
     "data": {
      "text/plain": [
       "'[[Cool]]'"
      ]
     },
     "execution_count": 10,
     "metadata": {},
     "output_type": "execute_result"
    }
   ],
   "source": [
    "# Assignment 3:\n",
    "\"\"\"\n",
    "    Given 2 variables chars and word, write code to move\n",
    "    the data contained in the variable word in the exact middle of\n",
    "    the characters contained in the variable chars and save this\n",
    "    in a new variable called result and print it.\n",
    "\n",
    "    NOTE: chars variable will contain only 4 characters\n",
    "\n",
    "    Example:\n",
    "    ---------------\n",
    "    chars = \"<<>>\"\n",
    "    word = \"hello\"\n",
    "    result - should contain the following string: <<hello>>\n",
    "\n",
    "\"\"\"\n",
    "\n",
    "chars = \"[[]]\"\n",
    "word = \"Cool\"\n",
    "\n",
    "# Expected Result Printed: [[Cool]]\n",
    "\n",
    "#Solution\n",
    "\n",
    "chars[:2]+ word + chars[2:]\n",
    "\n"
   ]
  },
  {
   "cell_type": "code",
   "execution_count": 12,
   "id": "81fe5849",
   "metadata": {},
   "outputs": [
    {
     "data": {
      "text/plain": [
       "'omputerTuck'"
      ]
     },
     "execution_count": 12,
     "metadata": {},
     "output_type": "execute_result"
    }
   ],
   "source": [
    "# Assignment 4:\n",
    "\"\"\"\n",
    "    Given 2 variables word1 and word2, write code to\n",
    "    print the concatenation of the 2 words omitting the\n",
    "    first_folder letter of the string saved in word1 and the second_folder\n",
    "    letter of the string saved in word2.\n",
    "\n",
    "    Example:\n",
    "    ---------------\n",
    "    word1 = \"Vehicle\"\n",
    "    word2 = \"Robot\"\n",
    "    result - ehicleRbot\n",
    "\n",
    "\"\"\"\n",
    "\n",
    "word1 = \"Computer\"\n",
    "word2 = \"Truck\"\n",
    "\n",
    "# Expected Result Printed: omputerTuck\n",
    "\n",
    "#Solution\n",
    "\n",
    "word1[1:] + word2[0:1] + word2[2:]\n"
   ]
  },
  {
   "cell_type": "code",
   "execution_count": 20,
   "id": "1b64a4e0",
   "metadata": {},
   "outputs": [
    {
     "data": {
      "text/plain": [
       "'<<[Cool]]]'"
      ]
     },
     "execution_count": 20,
     "metadata": {},
     "output_type": "execute_result"
    }
   ],
   "source": [
    "# Assignment 5:\n",
    "\"\"\"\n",
    "    Given 2 variables chars and word, write code to move\n",
    "    the data contained in the variable word in the exact middle of\n",
    "    the characters contained in the variable chars and save this\n",
    "    in a new variable called result and print it.\n",
    "\n",
    "    NOTE: chars variable can contain any even number of characters.\n",
    "          the len() function can be used to figure out the length of a string\n",
    "\n",
    "    Example:\n",
    "    ---------------\n",
    "    chars = \"<[<||>]>\"\n",
    "    word = \"mirror\"\n",
    "    result - should contain the following string: <[<|mirror|>]>\n",
    "\n",
    "\"\"\"\n",
    "\n",
    "chars = \"<<[]]]\" # this could be a very long string with an even length.\n",
    "word = \"Cool\"\n",
    "\n",
    "# Expected Result Printed: <<[Cool]]]\n",
    "\n",
    "#Solution\n",
    "\n",
    "\n",
    "size = len(chars)\n",
    "idx = int(size/2)\n",
    "\n",
    "result = chars[:idx] +word + chars[idx:]\n",
    "result"
   ]
  },
  {
   "cell_type": "code",
   "execution_count": 23,
   "id": "7e1bb4be",
   "metadata": {},
   "outputs": [
    {
     "data": {
      "text/plain": [
       "'<<[Cool]]]'"
      ]
     },
     "execution_count": 23,
     "metadata": {},
     "output_type": "execute_result"
    }
   ],
   "source": [
    "#Another olution\n",
    "\n",
    "re = chars[:3]+ word+ chars[3:]\n",
    "re"
   ]
  },
  {
   "cell_type": "code",
   "execution_count": null,
   "id": "28cca255",
   "metadata": {},
   "outputs": [],
   "source": []
  },
  {
   "cell_type": "code",
   "execution_count": null,
   "id": "b194c9b4",
   "metadata": {},
   "outputs": [],
   "source": []
  }
 ],
 "metadata": {
  "kernelspec": {
   "display_name": "Python 3 (ipykernel)",
   "language": "python",
   "name": "python3"
  },
  "language_info": {
   "codemirror_mode": {
    "name": "ipython",
    "version": 3
   },
   "file_extension": ".py",
   "mimetype": "text/x-python",
   "name": "python",
   "nbconvert_exporter": "python",
   "pygments_lexer": "ipython3",
   "version": "3.9.13"
  }
 },
 "nbformat": 4,
 "nbformat_minor": 5
}
