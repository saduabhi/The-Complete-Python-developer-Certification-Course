{
 "cells": [
  {
   "cell_type": "markdown",
   "id": "2bd3877a",
   "metadata": {},
   "source": [
    "**Functions and Variable Scope**"
   ]
  },
  {
   "cell_type": "markdown",
   "id": "f7c950a3",
   "metadata": {},
   "source": [
    "**Introduction to Creating Functions**"
   ]
  },
  {
   "cell_type": "code",
   "execution_count": 48,
   "id": "6ff55cad",
   "metadata": {
    "scrolled": true
   },
   "outputs": [
    {
     "name": "stdout",
     "output_type": "stream",
     "text": [
      "(0, 1) (0, 1)\n"
     ]
    }
   ],
   "source": [
    "x,y= zip(*zip(range(2),range(len('Python'))))    # extra thing \n",
    "print(x,y)"
   ]
  },
  {
   "cell_type": "code",
   "execution_count": 2,
   "id": "0edd0d16",
   "metadata": {},
   "outputs": [
    {
     "name": "stdout",
     "output_type": "stream",
     "text": [
      "Help on built-in function print in module builtins:\n",
      "\n",
      "print(...)\n",
      "    print(value, ..., sep=' ', end='\\n', file=sys.stdout, flush=False)\n",
      "    \n",
      "    Prints the values to a stream, or to sys.stdout by default.\n",
      "    Optional keyword arguments:\n",
      "    file:  a file-like object (stream); defaults to the current sys.stdout.\n",
      "    sep:   string inserted between values, default a space.\n",
      "    end:   string appended after the last value, default a newline.\n",
      "    flush: whether to forcibly flush the stream.\n",
      "\n"
     ]
    }
   ],
   "source": [
    "help(print)"
   ]
  },
  {
   "cell_type": "code",
   "execution_count": 4,
   "id": "dcea2bae",
   "metadata": {},
   "outputs": [
    {
     "name": "stdout",
     "output_type": "stream",
     "text": [
      "hello\n"
     ]
    }
   ],
   "source": [
    "def greet_person():\n",
    "    print('hello')\n",
    "greet_person()"
   ]
  },
  {
   "cell_type": "code",
   "execution_count": 17,
   "id": "c595d318",
   "metadata": {},
   "outputs": [
    {
     "name": "stdout",
     "output_type": "stream",
     "text": [
      "hello\n"
     ]
    }
   ],
   "source": [
    "def greet_person(sadu):\n",
    "    print('hello')\n",
    "greet_person('s')"
   ]
  },
  {
   "cell_type": "code",
   "execution_count": 35,
   "id": "e060120e",
   "metadata": {},
   "outputs": [
    {
     "name": "stdout",
     "output_type": "stream",
     "text": [
      "hello abhi\n"
     ]
    }
   ],
   "source": [
    "def greet_person(sadu):\n",
    "    print('hello'+ sadu)\n",
    "greet_person(' abhi')"
   ]
  },
  {
   "cell_type": "code",
   "execution_count": 26,
   "id": "8b3bc076",
   "metadata": {},
   "outputs": [
    {
     "name": "stdout",
     "output_type": "stream",
     "text": [
      "hello abhi\n"
     ]
    }
   ],
   "source": [
    "def greet_person(sadu= ' abhi'):\n",
    "    print('hello'+ sadu)\n",
    "greet_person()"
   ]
  },
  {
   "cell_type": "code",
   "execution_count": 30,
   "id": "e856e550",
   "metadata": {},
   "outputs": [
    {
     "name": "stdout",
     "output_type": "stream",
     "text": [
      "hello kishan\n"
     ]
    }
   ],
   "source": [
    "def greet_person(sadu= ' abhi'):\n",
    "    print('hello'+ sadu)\n",
    "greet_person(\" kishan\")"
   ]
  },
  {
   "cell_type": "code",
   "execution_count": 44,
   "id": "1e1cbb8d",
   "metadata": {},
   "outputs": [
    {
     "name": "stdout",
     "output_type": "stream",
     "text": [
      "hello 4\n"
     ]
    }
   ],
   "source": [
    "def greet_person(sadu= 4):\n",
    "    '''\n",
    "    saduabhi #comments\n",
    "    '''\n",
    "    \n",
    "    print('hello '+ str(sadu))\n",
    "greet_person()"
   ]
  },
  {
   "cell_type": "code",
   "execution_count": 47,
   "id": "8977ebe5",
   "metadata": {},
   "outputs": [
    {
     "data": {
      "text/plain": [
       "'hello kishan'"
      ]
     },
     "execution_count": 47,
     "metadata": {},
     "output_type": "execute_result"
    }
   ],
   "source": [
    "def greet_person(sadu= ' abhi'):\n",
    "    return 'hello'+ sadu\n",
    "    \n",
    "    \n",
    "greet_person(\" kishan\")"
   ]
  },
  {
   "cell_type": "code",
   "execution_count": 49,
   "id": "a88012c7",
   "metadata": {},
   "outputs": [
    {
     "data": {
      "text/plain": [
       "1"
      ]
     },
     "execution_count": 49,
     "metadata": {},
     "output_type": "execute_result"
    }
   ],
   "source": [
    "def remainder(num1, num2):\n",
    "    result = num1 % num2\n",
    "    return result\n",
    "remainder(10, 3)"
   ]
  },
  {
   "cell_type": "code",
   "execution_count": 51,
   "id": "266185eb",
   "metadata": {},
   "outputs": [
    {
     "data": {
      "text/plain": [
       "1"
      ]
     },
     "execution_count": 51,
     "metadata": {},
     "output_type": "execute_result"
    }
   ],
   "source": [
    "def remainder(num1, num2):\n",
    "     \n",
    "    return num1 % num2\n",
    "\n",
    "remainder(10, 3)"
   ]
  },
  {
   "cell_type": "markdown",
   "id": "018f9f13",
   "metadata": {},
   "source": [
    " *args and * *kwargs in Python are used to calculate unlimited options/values"
   ]
  },
  {
   "cell_type": "markdown",
   "id": "a510cf4e",
   "metadata": {},
   "source": [
    "**args stands for arguments, kwargs stands for keyword of arguments**"
   ]
  },
  {
   "cell_type": "code",
   "execution_count": 52,
   "id": "5b4b92c5",
   "metadata": {},
   "outputs": [],
   "source": [
    "# def sum(*args, **kwargs):"
   ]
  },
  {
   "cell_type": "code",
   "execution_count": 54,
   "id": "46930c08",
   "metadata": {},
   "outputs": [
    {
     "data": {
      "text/plain": [
       "15"
      ]
     },
     "execution_count": 54,
     "metadata": {},
     "output_type": "execute_result"
    }
   ],
   "source": [
    "result = sum((1,2,3,4,5))\n",
    "result"
   ]
  },
  {
   "cell_type": "code",
   "execution_count": 62,
   "id": "645bf085",
   "metadata": {},
   "outputs": [
    {
     "data": {
      "text/plain": [
       "10"
      ]
     },
     "execution_count": 62,
     "metadata": {},
     "output_type": "execute_result"
    }
   ],
   "source": [
    "def mysum(a,b,c,d,):\n",
    "    return a+b+c+d\n",
    "mysum(1,2,3,4)\n"
   ]
  },
  {
   "cell_type": "code",
   "execution_count": 64,
   "id": "aee16bac",
   "metadata": {},
   "outputs": [
    {
     "data": {
      "text/plain": [
       "12"
      ]
     },
     "execution_count": 64,
     "metadata": {},
     "output_type": "execute_result"
    }
   ],
   "source": [
    "def mysum(*args):\n",
    "    return sum(args)\n",
    "mysum(1,1,1,1,1,1,1,1,1,1,1,1)"
   ]
  },
  {
   "cell_type": "code",
   "execution_count": 69,
   "id": "7f9728ca",
   "metadata": {},
   "outputs": [
    {
     "name": "stdout",
     "output_type": "stream",
     "text": [
      "{'name': 'mike', 'age': '27'}\n"
     ]
    }
   ],
   "source": [
    "def key_val_func(**kwargs):\n",
    "    print(kwargs)\n",
    "key_val_func(name='mike', age='27')\n",
    "#key_val_func"
   ]
  },
  {
   "cell_type": "code",
   "execution_count": 70,
   "id": "6c74fec0",
   "metadata": {},
   "outputs": [
    {
     "name": "stdout",
     "output_type": "stream",
     "text": [
      "dict_keys(['name', 'age'])\n"
     ]
    }
   ],
   "source": [
    "def key_val_func(**kwargs):\n",
    "    print(kwargs.keys())\n",
    "key_val_func(name='mike', age='27')"
   ]
  },
  {
   "cell_type": "code",
   "execution_count": 71,
   "id": "25fddf0b",
   "metadata": {},
   "outputs": [
    {
     "name": "stdout",
     "output_type": "stream",
     "text": [
      "dict_values(['mike', '27'])\n"
     ]
    }
   ],
   "source": [
    "def key_val_func(**kwargs):\n",
    "    print(kwargs.values())\n",
    "key_val_func(name='mike', age='27')"
   ]
  },
  {
   "cell_type": "code",
   "execution_count": 73,
   "id": "19d9c9e8",
   "metadata": {},
   "outputs": [
    {
     "name": "stdout",
     "output_type": "stream",
     "text": [
      "27\n"
     ]
    }
   ],
   "source": [
    "def key_val_func(**kwargs):\n",
    "    print(kwargs.get('age'))\n",
    "key_val_func(name='mike', age='27')"
   ]
  },
  {
   "cell_type": "code",
   "execution_count": 74,
   "id": "4aa99fe0",
   "metadata": {},
   "outputs": [
    {
     "name": "stdout",
     "output_type": "stream",
     "text": [
      "None\n"
     ]
    }
   ],
   "source": [
    "def key_val_func(**kwargs):\n",
    "    print(kwargs.get('address'))\n",
    "key_val_func(name='mike', age='27')"
   ]
  },
  {
   "cell_type": "markdown",
   "id": "7e46c885",
   "metadata": {},
   "source": [
    "**Basics of Variable Scope**"
   ]
  },
  {
   "cell_type": "code",
   "execution_count": 77,
   "id": "c7908707",
   "metadata": {},
   "outputs": [
    {
     "name": "stdout",
     "output_type": "stream",
     "text": [
      "25\n",
      "25\n"
     ]
    }
   ],
   "source": [
    "age = 25\n",
    "print(age)\n",
    "\n",
    "def increase_age():\n",
    "    age = 30\n",
    "    \n",
    "print(age)"
   ]
  },
  {
   "cell_type": "code",
   "execution_count": 84,
   "id": "47e30d54",
   "metadata": {},
   "outputs": [
    {
     "name": "stdout",
     "output_type": "stream",
     "text": [
      "25\n",
      "25\n"
     ]
    }
   ],
   "source": [
    "age = 25  #global to the script\n",
    "print(age)\n",
    "\n",
    "def increase_age():\n",
    "    age = 30   #local to the def func\n",
    "increase_age    \n",
    "print(age)\n"
   ]
  },
  {
   "cell_type": "markdown",
   "id": "74df1cac",
   "metadata": {},
   "source": [
    "**Scope and Nested Functions**"
   ]
  },
  {
   "cell_type": "code",
   "execution_count": 117,
   "id": "95f6f632",
   "metadata": {},
   "outputs": [
    {
     "name": "stdout",
     "output_type": "stream",
     "text": [
      "25\n",
      "nested method 34\n",
      "30\n"
     ]
    }
   ],
   "source": [
    "#using the method inside the function\n",
    "#defining the function within the function\n",
    "\n",
    "\n",
    "age = 25  #global to the script\n",
    "print(age)\n",
    "\n",
    "def increase_age():\n",
    "    age = 30   #local to the def func\n",
    "    def add_4_to_age(age):\n",
    "        age = age + 4\n",
    "        print('nested method '+ str(age))\n",
    "    add_4_to_age(age)\n",
    "    print(age)\n",
    "\n",
    "increase_age()\n"
   ]
  },
  {
   "cell_type": "code",
   "execution_count": 118,
   "id": "1dc3218a",
   "metadata": {},
   "outputs": [
    {
     "name": "stdout",
     "output_type": "stream",
     "text": [
      "nested method 14\n",
      "10\n"
     ]
    }
   ],
   "source": [
    "def increase_age():\n",
    "    age = 10   #local to the def func\n",
    "    def add_4_to_age(age):\n",
    "        age = age + 4\n",
    "        print('nested method '+ str(age))\n",
    "    add_4_to_age(age)\n",
    "    print(age)\n",
    "\n",
    "increase_age()"
   ]
  },
  {
   "cell_type": "code",
   "execution_count": 126,
   "id": "bf2f9b1d",
   "metadata": {},
   "outputs": [
    {
     "name": "stdout",
     "output_type": "stream",
     "text": [
      "150\n"
     ]
    }
   ],
   "source": [
    "def inc_age():\n",
    "    age =100\n",
    "    #defining nested function\n",
    "    def add_age(age):\n",
    "        add_age = age + 50\n",
    "        print(add_age)\n",
    "    #calling nested function\n",
    "    add_age(age)\n",
    "inc_age()"
   ]
  },
  {
   "cell_type": "code",
   "execution_count": null,
   "id": "a6eb886f",
   "metadata": {},
   "outputs": [],
   "source": []
  },
  {
   "cell_type": "code",
   "execution_count": null,
   "id": "bc5ddea1",
   "metadata": {},
   "outputs": [],
   "source": []
  }
 ],
 "metadata": {
  "kernelspec": {
   "display_name": "Python 3 (ipykernel)",
   "language": "python",
   "name": "python3"
  },
  "language_info": {
   "codemirror_mode": {
    "name": "ipython",
    "version": 3
   },
   "file_extension": ".py",
   "mimetype": "text/x-python",
   "name": "python",
   "nbconvert_exporter": "python",
   "pygments_lexer": "ipython3",
   "version": "3.9.13"
  }
 },
 "nbformat": 4,
 "nbformat_minor": 5
}
