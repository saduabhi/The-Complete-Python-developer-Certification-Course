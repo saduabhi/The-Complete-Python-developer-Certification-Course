{
 "cells": [
  {
   "cell_type": "markdown",
   "id": "16d38f51",
   "metadata": {},
   "source": [
    "**Python work**"
   ]
  },
  {
   "cell_type": "markdown",
   "id": "5f75226d",
   "metadata": {},
   "source": [
    "**1. Basics of Variables**"
   ]
  },
  {
   "cell_type": "code",
   "execution_count": 1,
   "id": "9ce9fcad",
   "metadata": {},
   "outputs": [
    {
     "name": "stdout",
     "output_type": "stream",
     "text": [
      "hello sadu\n"
     ]
    }
   ],
   "source": [
    "print('hello sadu')"
   ]
  },
  {
   "cell_type": "code",
   "execution_count": 3,
   "id": "88cf5638",
   "metadata": {},
   "outputs": [
    {
     "name": "stdout",
     "output_type": "stream",
     "text": [
      "number\n"
     ]
    }
   ],
   "source": [
    "number= 100\n",
    "print('number')"
   ]
  },
  {
   "cell_type": "code",
   "execution_count": 4,
   "id": "bedff728",
   "metadata": {},
   "outputs": [
    {
     "data": {
      "text/plain": [
       "100"
      ]
     },
     "execution_count": 4,
     "metadata": {},
     "output_type": "execute_result"
    }
   ],
   "source": [
    "number"
   ]
  },
  {
   "cell_type": "code",
   "execution_count": 6,
   "id": "52210a74",
   "metadata": {},
   "outputs": [
    {
     "name": "stdout",
     "output_type": "stream",
     "text": [
      "223\n"
     ]
    }
   ],
   "source": [
    "number = 123\n",
    "weight = 100\n",
    "answer = number+weight\n",
    "print(answer)"
   ]
  },
  {
   "cell_type": "code",
   "execution_count": 20,
   "id": "83ae57b0",
   "metadata": {},
   "outputs": [
    {
     "name": "stdout",
     "output_type": "stream",
     "text": [
      "sadu abhi\n",
      "sadu abhi weighs 100 lbs\n"
     ]
    }
   ],
   "source": [
    "first_name = 'sadu'\n",
    "last_name = ' abhi'\n",
    "name = first_name + last_name\n",
    "print(name)\n",
    "\n",
    "weight =100\n",
    "sentence = name + \" weighs \" +str(weight) + \" lbs\"\n",
    "print(sentence)\n"
   ]
  },
  {
   "cell_type": "markdown",
   "id": "7e53e2a1",
   "metadata": {},
   "source": [
    "**2. Basics of Datatypes in Python**"
   ]
  },
  {
   "cell_type": "code",
   "execution_count": 26,
   "id": "6010d931",
   "metadata": {},
   "outputs": [],
   "source": [
    "a= type(100)"
   ]
  },
  {
   "cell_type": "code",
   "execution_count": 27,
   "id": "91605648",
   "metadata": {},
   "outputs": [
    {
     "name": "stdout",
     "output_type": "stream",
     "text": [
      "<class 'int'>\n"
     ]
    }
   ],
   "source": [
    "print(a)"
   ]
  },
  {
   "cell_type": "code",
   "execution_count": 29,
   "id": "fad2a479",
   "metadata": {},
   "outputs": [
    {
     "name": "stdout",
     "output_type": "stream",
     "text": [
      "<class 'float'>\n"
     ]
    }
   ],
   "source": [
    "b= type(100.00)\n",
    "print(b)"
   ]
  },
  {
   "cell_type": "code",
   "execution_count": 31,
   "id": "a909c8a8",
   "metadata": {},
   "outputs": [
    {
     "name": "stdout",
     "output_type": "stream",
     "text": [
      "<class 'bool'>\n"
     ]
    }
   ],
   "source": [
    "b= type(True)\n",
    "print(b)"
   ]
  },
  {
   "cell_type": "markdown",
   "id": "a39b72bf",
   "metadata": {},
   "source": [
    "**3. Basics of Arithmetic in Python**"
   ]
  },
  {
   "cell_type": "code",
   "execution_count": 33,
   "id": "d183b1a5",
   "metadata": {},
   "outputs": [
    {
     "name": "stdout",
     "output_type": "stream",
     "text": [
      "30\n"
     ]
    }
   ],
   "source": [
    "num1 = 3\n",
    "num2 = 10\n",
    "answer = num1*num2\n",
    "print(answer)"
   ]
  },
  {
   "cell_type": "code",
   "execution_count": 38,
   "id": "83f5a6a9",
   "metadata": {},
   "outputs": [
    {
     "name": "stdout",
     "output_type": "stream",
     "text": [
      "3.3333333333333335\n"
     ]
    }
   ],
   "source": [
    "num2 = 3\n",
    "num1 = 10\n",
    "answer = num1/num2\n",
    "print(answer)"
   ]
  },
  {
   "cell_type": "code",
   "execution_count": 40,
   "id": "05d17b71",
   "metadata": {},
   "outputs": [
    {
     "name": "stdout",
     "output_type": "stream",
     "text": [
      "3\n"
     ]
    }
   ],
   "source": [
    "num2 = 3\n",
    "num1 = 10\n",
    "answer = num1//num2\n",
    "print(answer)"
   ]
  },
  {
   "cell_type": "code",
   "execution_count": 37,
   "id": "35fb2716",
   "metadata": {},
   "outputs": [
    {
     "name": "stdout",
     "output_type": "stream",
     "text": [
      "1\n"
     ]
    }
   ],
   "source": [
    "#To get remainder of the divisor use modulus operator i.e. is % sign\n",
    "num2 = 3\n",
    "num1 = 10\n",
    "answer = num1%num2\n",
    "print(answer)"
   ]
  },
  {
   "cell_type": "code",
   "execution_count": 41,
   "id": "112f806c",
   "metadata": {},
   "outputs": [
    {
     "name": "stdout",
     "output_type": "stream",
     "text": [
      "33\n"
     ]
    }
   ],
   "source": [
    "# Order Operations\n",
    "\n",
    "answer = 10 + 3 * 9 - 4\n",
    "\n",
    "print(answer)"
   ]
  },
  {
   "cell_type": "code",
   "execution_count": 43,
   "id": "0481eb64",
   "metadata": {},
   "outputs": [
    {
     "name": "stdout",
     "output_type": "stream",
     "text": [
      "113\n"
     ]
    }
   ],
   "source": [
    "# numbers in the paranthesis will run first.\n",
    "\n",
    "answer = (10 + 3) * 9 - 4\n",
    "\n",
    "print(answer)"
   ]
  },
  {
   "cell_type": "code",
   "execution_count": 44,
   "id": "c855e0b0",
   "metadata": {},
   "outputs": [
    {
     "name": "stdout",
     "output_type": "stream",
     "text": [
      "65\n"
     ]
    }
   ],
   "source": [
    "answer = (10 + 3) * (9 - 4)\n",
    "\n",
    "print(answer)"
   ]
  },
  {
   "cell_type": "markdown",
   "id": "bd5730df",
   "metadata": {},
   "source": [
    "**4. Indexing and Slicing Strings**"
   ]
  },
  {
   "cell_type": "code",
   "execution_count": 63,
   "id": "5a49fa2d",
   "metadata": {},
   "outputs": [
    {
     "name": "stdout",
     "output_type": "stream",
     "text": [
      " I'm sadu\n"
     ]
    }
   ],
   "source": [
    "A = \" I'm sadu\"\n",
    "print(A)"
   ]
  },
  {
   "cell_type": "code",
   "execution_count": 64,
   "id": "ec9c6310",
   "metadata": {},
   "outputs": [
    {
     "name": "stdout",
     "output_type": "stream",
     "text": [
      " I'm \n",
      " sadu\n"
     ]
    }
   ],
   "source": [
    "B = \" I'm \\n sadu\"\n",
    "print(B)"
   ]
  },
  {
   "cell_type": "code",
   "execution_count": 65,
   "id": "7b12b441",
   "metadata": {},
   "outputs": [
    {
     "data": {
      "text/plain": [
       "'I'"
      ]
     },
     "execution_count": 65,
     "metadata": {},
     "output_type": "execute_result"
    }
   ],
   "source": [
    "A[1]"
   ]
  },
  {
   "cell_type": "code",
   "execution_count": 66,
   "id": "9af90c77",
   "metadata": {},
   "outputs": [
    {
     "data": {
      "text/plain": [
       "'u'"
      ]
     },
     "execution_count": 66,
     "metadata": {},
     "output_type": "execute_result"
    }
   ],
   "source": [
    "A[-1]"
   ]
  },
  {
   "cell_type": "code",
   "execution_count": 67,
   "id": "d00c82ff",
   "metadata": {},
   "outputs": [
    {
     "data": {
      "text/plain": [
       "\" I'm sadu\""
      ]
     },
     "execution_count": 67,
     "metadata": {},
     "output_type": "execute_result"
    }
   ],
   "source": [
    "A[:]"
   ]
  },
  {
   "cell_type": "code",
   "execution_count": 68,
   "id": "d9d307d6",
   "metadata": {},
   "outputs": [
    {
     "data": {
      "text/plain": [
       "\" I'm sadu\""
      ]
     },
     "execution_count": 68,
     "metadata": {},
     "output_type": "execute_result"
    }
   ],
   "source": [
    "A[::]"
   ]
  },
  {
   "cell_type": "code",
   "execution_count": 71,
   "id": "c9e498a1",
   "metadata": {},
   "outputs": [
    {
     "data": {
      "text/plain": [
       "\" I'm sad\""
      ]
     },
     "execution_count": 71,
     "metadata": {},
     "output_type": "execute_result"
    }
   ],
   "source": [
    "A[0:8]"
   ]
  },
  {
   "cell_type": "code",
   "execution_count": 73,
   "id": "4efdea4e",
   "metadata": {},
   "outputs": [
    {
     "name": "stdout",
     "output_type": "stream",
     "text": [
      "abhishe\n"
     ]
    }
   ],
   "source": [
    "C= \"abhishek\"\n",
    "print(C[0:7])"
   ]
  },
  {
   "cell_type": "code",
   "execution_count": 76,
   "id": "a94fa2fd",
   "metadata": {},
   "outputs": [
    {
     "name": "stdout",
     "output_type": "stream",
     "text": [
      "abhishek\n"
     ]
    }
   ],
   "source": [
    "C= \"abhishek\"\n",
    "print(C[0:8:1])"
   ]
  },
  {
   "cell_type": "code",
   "execution_count": 77,
   "id": "23779ad6",
   "metadata": {},
   "outputs": [
    {
     "name": "stdout",
     "output_type": "stream",
     "text": [
      "ahse\n"
     ]
    }
   ],
   "source": [
    "C= \"abhishek\"\n",
    "print(C[0:8:2])"
   ]
  },
  {
   "cell_type": "code",
   "execution_count": 78,
   "id": "3a72f132",
   "metadata": {},
   "outputs": [
    {
     "name": "stdout",
     "output_type": "stream",
     "text": [
      "abhishek\n"
     ]
    }
   ],
   "source": [
    "C= \"abhishek\"\n",
    "print(C[0:])"
   ]
  },
  {
   "cell_type": "code",
   "execution_count": 79,
   "id": "d05a4f40",
   "metadata": {},
   "outputs": [
    {
     "name": "stdout",
     "output_type": "stream",
     "text": [
      "abhishe\n"
     ]
    }
   ],
   "source": [
    "C= \"abhishek\"\n",
    "print(C[:-1])"
   ]
  },
  {
   "cell_type": "markdown",
   "id": "f173e65c",
   "metadata": {},
   "source": [
    "**5. Basic String Methods**"
   ]
  },
  {
   "cell_type": "code",
   "execution_count": 94,
   "id": "3633f34e",
   "metadata": {},
   "outputs": [
    {
     "data": {
      "text/plain": [
       "'ABHISHEK '"
      ]
     },
     "execution_count": 94,
     "metadata": {},
     "output_type": "execute_result"
    }
   ],
   "source": [
    "C= \"abhishek \"\n",
    "C.upper()"
   ]
  },
  {
   "cell_type": "code",
   "execution_count": 95,
   "id": "4bd8a3d7",
   "metadata": {},
   "outputs": [
    {
     "data": {
      "text/plain": [
       "'abhishek '"
      ]
     },
     "execution_count": 95,
     "metadata": {},
     "output_type": "execute_result"
    }
   ],
   "source": [
    "C.lower()"
   ]
  },
  {
   "cell_type": "code",
   "execution_count": 96,
   "id": "5911f6a9",
   "metadata": {},
   "outputs": [
    {
     "data": {
      "text/plain": [
       "'Abhishek '"
      ]
     },
     "execution_count": 96,
     "metadata": {},
     "output_type": "execute_result"
    }
   ],
   "source": [
    "C.capitalize()"
   ]
  },
  {
   "cell_type": "code",
   "execution_count": 97,
   "id": "1657aa69",
   "metadata": {},
   "outputs": [
    {
     "data": {
      "text/plain": [
       "False"
      ]
     },
     "execution_count": 97,
     "metadata": {},
     "output_type": "execute_result"
    }
   ],
   "source": [
    "C.isdigit()"
   ]
  },
  {
   "cell_type": "code",
   "execution_count": 98,
   "id": "089a46bb",
   "metadata": {},
   "outputs": [
    {
     "data": {
      "text/plain": [
       "False"
      ]
     },
     "execution_count": 98,
     "metadata": {},
     "output_type": "execute_result"
    }
   ],
   "source": [
    "C.isalnum()"
   ]
  },
  {
   "cell_type": "code",
   "execution_count": 100,
   "id": "d1fb31af",
   "metadata": {},
   "outputs": [
    {
     "data": {
      "text/plain": [
       "True"
      ]
     },
     "execution_count": 100,
     "metadata": {},
     "output_type": "execute_result"
    }
   ],
   "source": [
    "D= \"abhi12345\"\n",
    "D.isalnum()"
   ]
  },
  {
   "cell_type": "code",
   "execution_count": 101,
   "id": "97f39de6",
   "metadata": {},
   "outputs": [
    {
     "data": {
      "text/plain": [
       "False"
      ]
     },
     "execution_count": 101,
     "metadata": {},
     "output_type": "execute_result"
    }
   ],
   "source": [
    "D= \"abhi  12345\"\n",
    "D.isalnum()"
   ]
  },
  {
   "cell_type": "code",
   "execution_count": 102,
   "id": "99aa7b1a",
   "metadata": {},
   "outputs": [
    {
     "data": {
      "text/plain": [
       "True"
      ]
     },
     "execution_count": 102,
     "metadata": {},
     "output_type": "execute_result"
    }
   ],
   "source": [
    "D.startswith(\"abhi\")"
   ]
  },
  {
   "cell_type": "code",
   "execution_count": 103,
   "id": "c08d3463",
   "metadata": {},
   "outputs": [
    {
     "data": {
      "text/plain": [
       "False"
      ]
     },
     "execution_count": 103,
     "metadata": {},
     "output_type": "execute_result"
    }
   ],
   "source": [
    "D.startswith(\"1234\")"
   ]
  },
  {
   "cell_type": "code",
   "execution_count": 104,
   "id": "28b0e7f8",
   "metadata": {},
   "outputs": [
    {
     "ename": "TypeError",
     "evalue": "endswith first arg must be str or a tuple of str, not int",
     "output_type": "error",
     "traceback": [
      "\u001b[1;31m---------------------------------------------------------------------------\u001b[0m",
      "\u001b[1;31mTypeError\u001b[0m                                 Traceback (most recent call last)",
      "\u001b[1;32m~\\AppData\\Local\\Temp\\ipykernel_19868\\2335901134.py\u001b[0m in \u001b[0;36m<module>\u001b[1;34m\u001b[0m\n\u001b[1;32m----> 1\u001b[1;33m \u001b[0mD\u001b[0m\u001b[1;33m.\u001b[0m\u001b[0mendswith\u001b[0m\u001b[1;33m(\u001b[0m\u001b[1;36m3\u001b[0m\u001b[1;33m)\u001b[0m\u001b[1;33m\u001b[0m\u001b[1;33m\u001b[0m\u001b[0m\n\u001b[0m",
      "\u001b[1;31mTypeError\u001b[0m: endswith first arg must be str or a tuple of str, not int"
     ]
    }
   ],
   "source": [
    "D.endswith(3)"
   ]
  },
  {
   "cell_type": "code",
   "execution_count": 105,
   "id": "f7ef04d6",
   "metadata": {},
   "outputs": [
    {
     "data": {
      "text/plain": [
       "False"
      ]
     },
     "execution_count": 105,
     "metadata": {},
     "output_type": "execute_result"
    }
   ],
   "source": [
    "# TypeError: endswith first arg must be str or a tuple of str, not int\n",
    "D.endswith(\"3\")"
   ]
  },
  {
   "cell_type": "code",
   "execution_count": 110,
   "id": "90f83773",
   "metadata": {},
   "outputs": [
    {
     "data": {
      "text/plain": [
       "True"
      ]
     },
     "execution_count": 110,
     "metadata": {},
     "output_type": "execute_result"
    }
   ],
   "source": [
    "# checking the inbetween characters  \n",
    "\n",
    "D.startswith(\"1234\", 6)"
   ]
  },
  {
   "cell_type": "markdown",
   "id": "12fe8d07",
   "metadata": {},
   "source": [
    "**Formatting Strings Using the Format Method**"
   ]
  },
  {
   "cell_type": "code",
   "execution_count": 116,
   "id": "e828b9c4",
   "metadata": {},
   "outputs": [
    {
     "name": "stdout",
     "output_type": "stream",
     "text": [
      "The sum of 5+10 is 15\n"
     ]
    }
   ],
   "source": [
    "num = \"The sum of 5+10 is {0}\".format(15)\n",
    "print(num)"
   ]
  },
  {
   "cell_type": "code",
   "execution_count": 118,
   "id": "ad4ba8c2",
   "metadata": {},
   "outputs": [
    {
     "name": "stdout",
     "output_type": "stream",
     "text": [
      "The sum of 10 + 20 is 30\n"
     ]
    }
   ],
   "source": [
    "numer = \"The sum of {0} + {1} is {2}\".format(10,20,30)\n",
    "print(numer)"
   ]
  },
  {
   "cell_type": "markdown",
   "id": "07e54296",
   "metadata": {},
   "source": [
    "**Strings are Immutable - meaning they cannot be modified**"
   ]
  },
  {
   "cell_type": "code",
   "execution_count": 120,
   "id": "1dce0d1e",
   "metadata": {},
   "outputs": [
    {
     "data": {
      "text/plain": [
       "'abcd'"
      ]
     },
     "execution_count": 120,
     "metadata": {},
     "output_type": "execute_result"
    }
   ],
   "source": [
    "my_var =\"abcd\"\n",
    "my_var"
   ]
  },
  {
   "cell_type": "code",
   "execution_count": 122,
   "id": "20b1bf21",
   "metadata": {},
   "outputs": [
    {
     "data": {
      "text/plain": [
       "'1bcd'"
      ]
     },
     "execution_count": 122,
     "metadata": {},
     "output_type": "execute_result"
    }
   ],
   "source": [
    "# Define brand new string with modified value.\n",
    "\n",
    "\"1\"+ my_var[1:]"
   ]
  },
  {
   "cell_type": "code",
   "execution_count": null,
   "id": "3d02016b",
   "metadata": {},
   "outputs": [],
   "source": []
  },
  {
   "cell_type": "code",
   "execution_count": 123,
   "id": "376eed88",
   "metadata": {},
   "outputs": [],
   "source": [
    "chars = \"[[]]\"\n",
    "word =\"cool\""
   ]
  },
  {
   "cell_type": "code",
   "execution_count": 126,
   "id": "abff02d3",
   "metadata": {},
   "outputs": [
    {
     "data": {
      "text/plain": [
       "'[[cool]]'"
      ]
     },
     "execution_count": 126,
     "metadata": {},
     "output_type": "execute_result"
    }
   ],
   "source": [
    "chars[:2]+ word +chars[2:]"
   ]
  },
  {
   "cell_type": "code",
   "execution_count": null,
   "id": "f9f11d5b",
   "metadata": {},
   "outputs": [],
   "source": []
  },
  {
   "cell_type": "code",
   "execution_count": null,
   "id": "f307cd32",
   "metadata": {},
   "outputs": [],
   "source": []
  }
 ],
 "metadata": {
  "kernelspec": {
   "display_name": "Python 3 (ipykernel)",
   "language": "python",
   "name": "python3"
  },
  "language_info": {
   "codemirror_mode": {
    "name": "ipython",
    "version": 3
   },
   "file_extension": ".py",
   "mimetype": "text/x-python",
   "name": "python",
   "nbconvert_exporter": "python",
   "pygments_lexer": "ipython3",
   "version": "3.9.13"
  }
 },
 "nbformat": 4,
 "nbformat_minor": 5
}
