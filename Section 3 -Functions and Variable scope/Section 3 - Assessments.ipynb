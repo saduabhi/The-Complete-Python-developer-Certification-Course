{
 "cells": [
  {
   "cell_type": "code",
   "execution_count": 11,
   "id": "dcab5b2b",
   "metadata": {},
   "outputs": [
    {
     "data": {
      "text/plain": [
       "[1, 2, 3, 'a', 'b', 'c']"
      ]
     },
     "execution_count": 11,
     "metadata": {},
     "output_type": "execute_result"
    }
   ],
   "source": [
    "# Assignment 1:\n",
    "\"\"\"\n",
    "    Create a function named merge_lists that accepts 2 lists.\n",
    "    The function is supposed to merge both of those lists together\n",
    "    and return the result.\n",
    "\"\"\"\n",
    "\n",
    "# your code below:\n",
    "\n",
    "def merge_lists(list_A, list_B):\n",
    "    return list_A + list_B\n",
    "\n",
    "my_list =merge_lists([1,2,3],['a','b','c'])\n",
    "my_list"
   ]
  },
  {
   "cell_type": "code",
   "execution_count": 5,
   "id": "d22069f2",
   "metadata": {},
   "outputs": [
    {
     "name": "stdout",
     "output_type": "stream",
     "text": [
      "['h', 'e', 'l', 'l', 'o', ' ', 't', 'h', 'e', 'r', 'e']\n"
     ]
    }
   ],
   "source": [
    "# Assignment 2:\n",
    "\"\"\"\n",
    "    create a function called separate() that accepts a string as an argument\n",
    "    and returns a list containing each of the characters of\n",
    "    the string separated as individual items in the list.\n",
    "\n",
    "    Make sure to test the function.\n",
    "\"\"\"\n",
    "# Your Code Below:\n",
    "def separate(str):\n",
    "    return list(str)\n",
    "\n",
    "print(separate(\"hello there\"))"
   ]
  },
  {
   "cell_type": "code",
   "execution_count": 7,
   "id": "123ba0a7",
   "metadata": {},
   "outputs": [
    {
     "name": "stdout",
     "output_type": "stream",
     "text": [
      "['h', 'e', 'l', 'l', 'o', ' ', 's', 'a', 'd', 'u']\n"
     ]
    }
   ],
   "source": [
    "def seperate(str):\n",
    "    return list(str)\n",
    "\n",
    "print(seperate(\"hello sadu\"))"
   ]
  },
  {
   "cell_type": "code",
   "execution_count": 9,
   "id": "43135bf0",
   "metadata": {},
   "outputs": [
    {
     "name": "stdout",
     "output_type": "stream",
     "text": [
      "[1, 2, 3, 4, 'Hello', 'My', 'name', 'is', 'sadu', 'H', 'e', 'l', 'l', 'o', ' ', 'M', 'y', ' ', 'n', 'a', 'm', 'e', ' ', 'i', 's', ' ', 's', 'a', 'd', 'u']\n"
     ]
    }
   ],
   "source": [
    "# Assignment 3:\n",
    "\"\"\"\n",
    "Create a function called multi_merge that takes a list and a string\n",
    "as arguments.\n",
    "\n",
    "The function is supposed to return a merged list\n",
    "containing the original list argument as well as each of the words that are in\n",
    "the string argument in addition to each of the characters in the string\n",
    "argument as individual elements in the list.\n",
    "\n",
    "\"\"\"\n",
    "# Your Code Below:\n",
    "\n",
    "def multi_merge(list_a, str):\n",
    "    return list_a + str.split() + list(str)\n",
    "\n",
    "print(multi_merge([1,2,3,4], \"Hello My name is sadu\"))\n"
   ]
  },
  {
   "cell_type": "code",
   "execution_count": 12,
   "id": "a8fec109",
   "metadata": {},
   "outputs": [
    {
     "name": "stdout",
     "output_type": "stream",
     "text": [
      "[1, 2, 'Hello', 'H', 'e', 'l', 'l', 'o']\n"
     ]
    }
   ],
   "source": [
    "print(multi_merge([1,2], \"Hello\"))"
   ]
  },
  {
   "cell_type": "code",
   "execution_count": 17,
   "id": "2105759d",
   "metadata": {},
   "outputs": [
    {
     "data": {
      "text/plain": [
       "(['mike', 'john'],)"
      ]
     },
     "execution_count": 17,
     "metadata": {},
     "output_type": "execute_result"
    }
   ],
   "source": [
    "# Assignment 4:\n",
    "\n",
    "\"\"\"\n",
    "Define a function called last_list that can accept an unlimited number\n",
    "of lists but returns only the last list.\n",
    "\n",
    "Example:\n",
    "\n",
    "    For example, the below function call should return ['mike', 'john']\n",
    "\n",
    "    last_list([1,2,3,4,5], ['a', 'b', 'c'], ['mike', 'john'])\n",
    "\n",
    "\"\"\"\n",
    "\n",
    "# Your code below:\n",
    "\n",
    "def last_list(*args):\n",
    "    return args[-1 :len(args)]\n",
    "\n",
    "last_list([1,2,3,4,5], ['a', 'b', 'c'], ['mike', 'john'])\n"
   ]
  },
  {
   "cell_type": "code",
   "execution_count": 18,
   "id": "66456cfe",
   "metadata": {},
   "outputs": [
    {
     "data": {
      "text/plain": [
       "['mike', 'john']"
      ]
     },
     "execution_count": 18,
     "metadata": {},
     "output_type": "execute_result"
    }
   ],
   "source": [
    "def last_list(*args):\n",
    "    return args[-1]\n",
    "\n",
    "last_list([1,2,3,4,5], ['a', 'b', 'c'], ['mike', 'john'])"
   ]
  },
  {
   "cell_type": "code",
   "execution_count": 19,
   "id": "b5458c3a",
   "metadata": {},
   "outputs": [
    {
     "data": {
      "text/plain": [
       "'jan'"
      ]
     },
     "execution_count": 19,
     "metadata": {},
     "output_type": "execute_result"
    }
   ],
   "source": [
    "# Assignment 5:\n",
    "\n",
    "\"\"\"\n",
    "Define a function called key_list_items that can accept an unlimited number\n",
    "of lists along with another argument. The function should return\n",
    "the second_folder to last item in the specific list specified by the user of the function.\n",
    "\n",
    "Example:\n",
    "\n",
    "    For example, the below function call should return: jan\n",
    "\n",
    "    key_list_items(\"people\", things=['book', 'tv'], people=['pete', 'mike', 'jan', 'tom'])\n",
    "\n",
    "\"\"\"\n",
    "\n",
    "# Your Code Below:\n",
    "def key_list_items(key,**kwargs):\n",
    "    value_list = kwargs[key]\n",
    "    return value_list[-2]\n",
    "\n",
    "\n",
    "key_list_items(\"people\", things=['book', 'tv'], people=['pete', 'mike', 'jan', 'tom'])\n"
   ]
  },
  {
   "cell_type": "code",
   "execution_count": null,
   "id": "fafbad7e",
   "metadata": {},
   "outputs": [],
   "source": []
  },
  {
   "cell_type": "code",
   "execution_count": null,
   "id": "9dceef26",
   "metadata": {},
   "outputs": [],
   "source": []
  }
 ],
 "metadata": {
  "kernelspec": {
   "display_name": "Python 3 (ipykernel)",
   "language": "python",
   "name": "python3"
  },
  "language_info": {
   "codemirror_mode": {
    "name": "ipython",
    "version": 3
   },
   "file_extension": ".py",
   "mimetype": "text/x-python",
   "name": "python",
   "nbconvert_exporter": "python",
   "pygments_lexer": "ipython3",
   "version": "3.9.13"
  }
 },
 "nbformat": 4,
 "nbformat_minor": 5
}
